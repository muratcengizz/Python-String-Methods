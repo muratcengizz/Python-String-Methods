{
 "cells": [
  {
   "cell_type": "markdown",
   "id": "7e4bae1d-6d11-41fb-a5ff-a6d3c7304231",
   "metadata": {},
   "source": [
    "# String Methods"
   ]
  },
  {
   "cell_type": "code",
   "execution_count": 21,
   "id": "268a6cf2-a29b-434e-810c-40e1d9708162",
   "metadata": {},
   "outputs": [
    {
     "data": {
      "text/plain": [
       "'Hello, welcome to my world!'"
      ]
     },
     "execution_count": 21,
     "metadata": {},
     "output_type": "execute_result"
    }
   ],
   "source": [
    "method = 'Hello, welcome to my world!'\n",
    "method"
   ]
  },
  {
   "cell_type": "code",
   "execution_count": 22,
   "id": "2a5d3ca8-78b4-447d-8647-ba34a4a92cf8",
   "metadata": {},
   "outputs": [
    {
     "data": {
      "text/plain": [
       "'Hello, welcome to my world!'"
      ]
     },
     "execution_count": 22,
     "metadata": {},
     "output_type": "execute_result"
    }
   ],
   "source": [
    "method.capitalize()\n",
    "# capitalize() methodu ile string'in 0. index'i büyük harfe dönüşür."
   ]
  },
  {
   "cell_type": "code",
   "execution_count": 23,
   "id": "a660fecd-58c7-437b-81ec-a87288e61a15",
   "metadata": {},
   "outputs": [
    {
     "data": {
      "text/plain": [
       "'hello, welcome to my world!'"
      ]
     },
     "execution_count": 23,
     "metadata": {},
     "output_type": "execute_result"
    }
   ],
   "source": [
    "method.casefold()\n",
    "# casefold() methodu ile string küçük harflere çevrilir."
   ]
  },
  {
   "cell_type": "code",
   "execution_count": 24,
   "id": "eec3736a-8239-4012-9b57-c30edf5986f3",
   "metadata": {},
   "outputs": [
    {
     "data": {
      "text/plain": [
       "1"
      ]
     },
     "execution_count": 24,
     "metadata": {},
     "output_type": "execute_result"
    }
   ],
   "source": [
    "method.count('welcome')\n",
    "# count() fonksiyonu ile parametre olarak verdiğimiz değer, arama yapacağımız değişken içerisinde kaç tane var sayımı yaptık.\n"
   ]
  },
  {
   "cell_type": "code",
   "execution_count": 25,
   "id": "a7bbf491-9b7f-4dfa-9788-291544246af0",
   "metadata": {},
   "outputs": [
    {
     "data": {
      "text/plain": [
       "False"
      ]
     },
     "execution_count": 25,
     "metadata": {},
     "output_type": "execute_result"
    }
   ],
   "source": [
    "method.endswith('.')"
   ]
  },
  {
   "cell_type": "code",
   "execution_count": 26,
   "id": "8144d921-9aab-4930-9832-d8d2d57ae0f9",
   "metadata": {},
   "outputs": [
    {
     "data": {
      "text/plain": [
       "True"
      ]
     },
     "execution_count": 26,
     "metadata": {},
     "output_type": "execute_result"
    }
   ],
   "source": [
    "method.endswith('!')\n",
    "# endswith() methodu ile string yukarıda verilen değerlemi bitiyor kontrolü yapılabilir."
   ]
  },
  {
   "cell_type": "code",
   "execution_count": 31,
   "id": "bc04b9da-1fde-4ba3-b803-91be958a54ff",
   "metadata": {},
   "outputs": [
    {
     "data": {
      "text/plain": [
       "15"
      ]
     },
     "execution_count": 31,
     "metadata": {},
     "output_type": "execute_result"
    }
   ],
   "source": [
    "method.find('to')\n",
    "# find methodu parametre olarak verdiğimiz değerin hangi indexde başladığını çıktı olarak verir.\n",
    "# find methodu 3 parametre alabilir. find(value, start, end).\n",
    "# value: aranan değer\n",
    "# start: hangi index'ten itibaren arama yapılacak\n",
    "# end:  arama hangi index'e kadar yapılacak."
   ]
  },
  {
   "cell_type": "code",
   "execution_count": 36,
   "id": "c9e84920-c009-4f51-8395-f8ae0554a90d",
   "metadata": {},
   "outputs": [
    {
     "data": {
      "text/plain": [
       "-1"
      ]
     },
     "execution_count": 36,
     "metadata": {},
     "output_type": "execute_result"
    }
   ],
   "source": [
    "method.find('my', 0, 10)\n",
    "# 0 ve 10. indexler arasında aranan değer bulunamadığı için -1 değeri döndü."
   ]
  },
  {
   "cell_type": "code",
   "execution_count": 37,
   "id": "fa872144-f11c-418f-a4b2-6613ab3325ae",
   "metadata": {},
   "outputs": [
    {
     "data": {
      "text/plain": [
       "18"
      ]
     },
     "execution_count": 37,
     "metadata": {},
     "output_type": "execute_result"
    }
   ],
   "source": [
    "method.find('my', 10, -1)\n",
    "# 10 ve sonuncu index arasında aranan değer bulundu, ve hangi index numarasıyla başladığı çıktı olarak döndü."
   ]
  },
  {
   "cell_type": "code",
   "execution_count": 39,
   "id": "ee6fc6bd-4c3b-4ef2-9994-95c581385e9d",
   "metadata": {},
   "outputs": [
    {
     "data": {
      "text/plain": [
       "'I am 22'"
      ]
     },
     "execution_count": 39,
     "metadata": {},
     "output_type": "execute_result"
    }
   ],
   "source": [
    "old = 22\n",
    "txt = f'I am {old}'\n",
    "txt"
   ]
  },
  {
   "cell_type": "code",
   "execution_count": 42,
   "id": "52d804b5-7d57-4d71-a080-98cf9ca34c2b",
   "metadata": {},
   "outputs": [
    {
     "data": {
      "text/plain": [
       "'I am 22'"
      ]
     },
     "execution_count": 42,
     "metadata": {},
     "output_type": "execute_result"
    }
   ],
   "source": [
    "txt = 'I am {old}'.format(old=22)\n",
    "txt"
   ]
  },
  {
   "cell_type": "code",
   "execution_count": 43,
   "id": "bdec9017-8125-4403-be7d-c0d61e914464",
   "metadata": {},
   "outputs": [
    {
     "data": {
      "text/plain": [
       "\"I am 22 and my eyes' color is brown.\""
      ]
     },
     "execution_count": 43,
     "metadata": {},
     "output_type": "execute_result"
    }
   ],
   "source": [
    "txt = \"I am {old} and my eyes' color is {color}.\".format(old=22, color='brown')\n",
    "txt"
   ]
  },
  {
   "cell_type": "code",
   "execution_count": 60,
   "id": "3dfff98e-cc68-48e5-a77b-f2854b9fe2a7",
   "metadata": {},
   "outputs": [
    {
     "data": {
      "text/plain": [
       "(7, 7, 7)"
      ]
     },
     "execution_count": 60,
     "metadata": {},
     "output_type": "execute_result"
    }
   ],
   "source": [
    "method.index('wel')\n",
    "# index() fonksiyonu 3 parametre alır. index(value, start, end)\n",
    "# parametre olarak verilen değeri değişken içerisinde arar ve bulursa başlangıç indexi çıktı olarak verir.\n",
    "(method.index('wel'), method.index('wel', 2), method.index('wel', 2, 15))\n",
    "# find() methodu ile çok benzerdir.\n",
    "# eğer aranan değer string içerisinde verdiğimiz value değeri bulunmazsa, find() methodunda -1 çıktısını alırız.\n",
    "# fakat index() methodunda bir hata ile karşılaşırız. Bu kısım önemli!!!!"
   ]
  },
  {
   "cell_type": "code",
   "execution_count": 61,
   "id": "dd456847-eb76-48f5-9e9f-20eb55aa4c1f",
   "metadata": {},
   "outputs": [
    {
     "data": {
      "text/plain": [
       "False"
      ]
     },
     "execution_count": 61,
     "metadata": {},
     "output_type": "execute_result"
    }
   ],
   "source": [
    "method.isalnum()"
   ]
  },
  {
   "cell_type": "code",
   "execution_count": 64,
   "id": "28b6830f-9333-45af-b203-5665bb8aa7e7",
   "metadata": {},
   "outputs": [
    {
     "data": {
      "text/plain": [
       "True"
      ]
     },
     "execution_count": 64,
     "metadata": {},
     "output_type": "execute_result"
    }
   ],
   "source": [
    "txt = 'Company12'\n",
    "txt.isalnum()\n",
    "# string içerisinde (a-z) ve (0,9) 'dan başka karakter varsa False döner. Eğer yoksa True döner. (space)!#%&? ve benzeri karakterler False değer döndürülmesine sebep olur."
   ]
  },
  {
   "cell_type": "code",
   "execution_count": 66,
   "id": "309f2950-3d1b-4159-9f67-c20f7dceae1f",
   "metadata": {},
   "outputs": [
    {
     "data": {
      "text/plain": [
       "False"
      ]
     },
     "execution_count": 66,
     "metadata": {},
     "output_type": "execute_result"
    }
   ],
   "source": [
    "method.isalpha()"
   ]
  },
  {
   "cell_type": "code",
   "execution_count": 72,
   "id": "4cee41a6-fc18-4238-85ef-9568aa8dc160",
   "metadata": {},
   "outputs": [
    {
     "data": {
      "text/plain": [
       "True"
      ]
     },
     "execution_count": 72,
     "metadata": {},
     "output_type": "execute_result"
    }
   ],
   "source": [
    "txt = 'spaceX'\n",
    "txt.isalpha()\n",
    "# (space) #!%&? ve benzeri karakterleri string'in içerisinde varsa False değer döner, değilse True.\n",
    "# string ifade içerisinde alfabedeki değerler dışında ifade varsa False döner."
   ]
  },
  {
   "cell_type": "code",
   "execution_count": 74,
   "id": "4f182d04-0a43-4379-a133-1392b58568c6",
   "metadata": {},
   "outputs": [
    {
     "data": {
      "text/plain": [
       "False"
      ]
     },
     "execution_count": 74,
     "metadata": {},
     "output_type": "execute_result"
    }
   ],
   "source": [
    "method.isdecimal()"
   ]
  },
  {
   "cell_type": "code",
   "execution_count": 84,
   "id": "26787eec-9148-4b37-b37d-88056b8e12cf",
   "metadata": {},
   "outputs": [
    {
     "data": {
      "text/plain": [
       "True"
      ]
     },
     "execution_count": 84,
     "metadata": {},
     "output_type": "execute_result"
    }
   ],
   "source": [
    "number= '538745'\n",
    "number.isdecimal()\n",
    "# string sadece integer değerlerden oluşuyorsa True döner, değilse False döner."
   ]
  },
  {
   "cell_type": "code",
   "execution_count": 78,
   "id": "8bc87950-225b-4849-841c-7a49e4183a65",
   "metadata": {},
   "outputs": [
    {
     "data": {
      "text/plain": [
       "False"
      ]
     },
     "execution_count": 78,
     "metadata": {},
     "output_type": "execute_result"
    }
   ],
   "source": [
    "method.isdigit()"
   ]
  },
  {
   "cell_type": "code",
   "execution_count": 85,
   "id": "5bfb5880-0974-42ef-b5f2-65b4a10b5935",
   "metadata": {},
   "outputs": [
    {
     "data": {
      "text/plain": [
       "True"
      ]
     },
     "execution_count": 85,
     "metadata": {},
     "output_type": "execute_result"
    }
   ],
   "source": [
    "number = '50800'\n",
    "number.isdigit()\n",
    "# string sadece integer değerlerden oluşuyorsa True, değilse False döner."
   ]
  },
  {
   "cell_type": "code",
   "execution_count": 86,
   "id": "63b6eac1-fe6b-4039-8072-f6cb86c8e93c",
   "metadata": {},
   "outputs": [
    {
     "data": {
      "text/plain": [
       "False"
      ]
     },
     "execution_count": 86,
     "metadata": {},
     "output_type": "execute_result"
    }
   ],
   "source": [
    "method.isidentifier()"
   ]
  },
  {
   "cell_type": "code",
   "execution_count": 90,
   "id": "ea62ee5e-d040-4fea-99b9-e79c6e6c2ed9",
   "metadata": {},
   "outputs": [
    {
     "data": {
      "text/plain": [
       "(True, False, False, True)"
      ]
     },
     "execution_count": 90,
     "metadata": {},
     "output_type": "execute_result"
    }
   ],
   "source": [
    "function_name1 = 'Murat'\n",
    "function_name2 = '1murat'\n",
    "function_name3 = 'net flix'\n",
    "function_name4 = 'tyr2'\n",
    "\n",
    "(function_name1.isidentifier(), function_name2.isidentifier(), function_name3.isidentifier(), function_name4.isidentifier())\n",
    "# string ifadenin, bir değişken ismi olup olamayacağını sorgular."
   ]
  },
  {
   "cell_type": "code",
   "execution_count": 93,
   "id": "607ca495-5846-4a20-880c-b7a2b81f9aa8",
   "metadata": {},
   "outputs": [
    {
     "data": {
      "text/plain": [
       "False"
      ]
     },
     "execution_count": 93,
     "metadata": {},
     "output_type": "execute_result"
    }
   ],
   "source": [
    "method.islower()\n",
    "# string ifadenin tüm elemanlarını küçük harf olup olmadığını sorgular."
   ]
  },
  {
   "cell_type": "code",
   "execution_count": 94,
   "id": "54db4a42-7558-470a-8762-7bf67615df3c",
   "metadata": {},
   "outputs": [
    {
     "data": {
      "text/plain": [
       "True"
      ]
     },
     "execution_count": 94,
     "metadata": {},
     "output_type": "execute_result"
    }
   ],
   "source": [
    "method.isprintable()"
   ]
  },
  {
   "cell_type": "code",
   "execution_count": 96,
   "id": "95058ebe-feb5-43c4-819d-6f9ff8005011",
   "metadata": {},
   "outputs": [
    {
     "data": {
      "text/plain": [
       "False"
      ]
     },
     "execution_count": 96,
     "metadata": {},
     "output_type": "execute_result"
    }
   ],
   "source": [
    "txt = 'selam\\nnaber?'\n",
    "txt.isprintable()\n",
    "# String'in tüm değerlerinin printable (yazdırılabilir) olup olmadığını sorgular."
   ]
  },
  {
   "cell_type": "code",
   "execution_count": 98,
   "id": "2d74c70f-7d27-46ee-99b9-27078577addf",
   "metadata": {},
   "outputs": [
    {
     "data": {
      "text/plain": [
       "False"
      ]
     },
     "execution_count": 98,
     "metadata": {},
     "output_type": "execute_result"
    }
   ],
   "source": [
    "method.isspace()\n",
    "# String'in sadece boşluktan oluşup oluşmadığını sorgular."
   ]
  },
  {
   "cell_type": "code",
   "execution_count": 99,
   "id": "409abe46-5468-43c5-b510-4c93ed598495",
   "metadata": {},
   "outputs": [
    {
     "data": {
      "text/plain": [
       "False"
      ]
     },
     "execution_count": 99,
     "metadata": {},
     "output_type": "execute_result"
    }
   ],
   "source": [
    "method.istitle()"
   ]
  },
  {
   "cell_type": "code",
   "execution_count": 101,
   "id": "d33c1dc8-566b-4c98-8876-8667ff643e0a",
   "metadata": {},
   "outputs": [
    {
     "data": {
      "text/plain": [
       "True"
      ]
     },
     "execution_count": 101,
     "metadata": {},
     "output_type": "execute_result"
    }
   ],
   "source": [
    "title = 'Bu Bir Başlıktır!'\n",
    "title.istitle()\n",
    "# String 'in başlık formatına uygun olup olmadığını sorgular."
   ]
  },
  {
   "cell_type": "code",
   "execution_count": 102,
   "id": "3d45cafc-e5cc-4ad9-bb38-174ce5770aae",
   "metadata": {},
   "outputs": [
    {
     "data": {
      "text/plain": [
       "False"
      ]
     },
     "execution_count": 102,
     "metadata": {},
     "output_type": "execute_result"
    }
   ],
   "source": [
    "method.isupper()"
   ]
  },
  {
   "cell_type": "code",
   "execution_count": 104,
   "id": "942d6e23-e5e0-4b30-804d-427aef476d46",
   "metadata": {},
   "outputs": [
    {
     "data": {
      "text/plain": [
       "True"
      ]
     },
     "execution_count": 104,
     "metadata": {},
     "output_type": "execute_result"
    }
   ],
   "source": [
    "upper = 'THIS IS NOW!'\n",
    "upper.isupper()\n",
    "# String 'in tüm değerlerinin büyük harf olup olmadığını sorgular."
   ]
  },
  {
   "cell_type": "code",
   "execution_count": 106,
   "id": "300e7b6d-99aa-48b0-a15a-6a92cdd5adf1",
   "metadata": {},
   "outputs": [
    {
     "data": {
      "text/plain": [
       "'H>e>l>l>o>,> >w>e>l>c>o>m>e> >t>o> >m>y> >w>o>r>l>d>!'"
      ]
     },
     "execution_count": 106,
     "metadata": {},
     "output_type": "execute_result"
    }
   ],
   "source": [
    "'>'.join(method)\n",
    "# Görüldüğü üzere fonksiyon string ifadeyi for döngüsü ile geziyor. Her index 'den sonra verdiğimiz değeri koyuyor."
   ]
  },
  {
   "cell_type": "code",
   "execution_count": 107,
   "id": "229cf850-9c34-4cad-9448-e23b97992be8",
   "metadata": {},
   "outputs": [
    {
     "data": {
      "text/plain": [
       "'Murat&Havvanur&Eva'"
      ]
     },
     "execution_count": 107,
     "metadata": {},
     "output_type": "execute_result"
    }
   ],
   "source": [
    "myTuple = ('Murat', 'Havvanur', 'Eva')\n",
    "'&'.join(myTuple)"
   ]
  },
  {
   "cell_type": "code",
   "execution_count": 108,
   "id": "f7c022f0-aed1-4ffb-b55e-fc2ddc28ecf8",
   "metadata": {},
   "outputs": [
    {
     "data": {
      "text/plain": [
       "'Bir<İki<Üç'"
      ]
     },
     "execution_count": 108,
     "metadata": {},
     "output_type": "execute_result"
    }
   ],
   "source": [
    "myList = ['Bir', 'İki', 'Üç']\n",
    "'<'.join(myList)"
   ]
  },
  {
   "cell_type": "code",
   "execution_count": 109,
   "id": "57316589-3113-4a96-b86d-a054342109c3",
   "metadata": {},
   "outputs": [
    {
     "data": {
      "text/plain": [
       "'Hello, welcome to my world!'"
      ]
     },
     "execution_count": 109,
     "metadata": {},
     "output_type": "execute_result"
    }
   ],
   "source": [
    "method"
   ]
  },
  {
   "cell_type": "code",
   "execution_count": 111,
   "id": "06adbf39-7edd-41ae-b4df-0eabeda75eb8",
   "metadata": {},
   "outputs": [
    {
     "data": {
      "text/plain": [
       "'hello, welcome to my world!'"
      ]
     },
     "execution_count": 111,
     "metadata": {},
     "output_type": "execute_result"
    }
   ],
   "source": [
    "method.lower()\n",
    "# String içerisinde büyük harfleri küçük harflere çevirir."
   ]
  },
  {
   "cell_type": "code",
   "execution_count": 112,
   "id": "5111c37a-f28a-4105-a3d2-89fa21c25273",
   "metadata": {},
   "outputs": [
    {
     "data": {
      "text/plain": [
       "'Hello, welcome to my world!'"
      ]
     },
     "execution_count": 112,
     "metadata": {},
     "output_type": "execute_result"
    }
   ],
   "source": [
    "method"
   ]
  },
  {
   "cell_type": "code",
   "execution_count": 117,
   "id": "b3016814-9afb-4364-afc8-f3eb5b46cee9",
   "metadata": {},
   "outputs": [
    {
     "data": {
      "text/plain": [
       "'Pello Everyone!'"
      ]
     },
     "execution_count": 117,
     "metadata": {},
     "output_type": "execute_result"
    }
   ],
   "source": [
    "txt = 'Hello Everyone!'\n",
    "mytable = txt.maketrans('H', 'P')\n",
    "txt.translate(mytable)\n",
    "# maketrans() ve translate() methodları bir arada kullanılarak string içerisinde belirli ifadeler üzerinde\n",
    "# değişiklik yapılabilir."
   ]
  },
  {
   "cell_type": "code",
   "execution_count": 118,
   "id": "726440a5-7bd8-435c-9332-6e3375867d50",
   "metadata": {},
   "outputs": [
    {
     "data": {
      "text/plain": [
       "'Hello, welcome to my world!'"
      ]
     },
     "execution_count": 118,
     "metadata": {},
     "output_type": "execute_result"
    }
   ],
   "source": [
    "method"
   ]
  },
  {
   "cell_type": "code",
   "execution_count": 120,
   "id": "8cf1a9c0-176c-453e-b364-ae9cdf00e9cf",
   "metadata": {},
   "outputs": [
    {
     "data": {
      "text/plain": [
       "('Hello, welcome ', 'to', ' my world!')"
      ]
     },
     "execution_count": 120,
     "metadata": {},
     "output_type": "execute_result"
    }
   ],
   "source": [
    "method.partition('to')\n",
    "# Parametre olarak verdiğimiz değeri string içerisinde yalnız bırakır ve gruplama yapar."
   ]
  },
  {
   "cell_type": "code",
   "execution_count": 121,
   "id": "c571692f-2294-44f7-b26d-deae685ec254",
   "metadata": {},
   "outputs": [
    {
     "data": {
      "text/plain": [
       "tuple"
      ]
     },
     "execution_count": 121,
     "metadata": {},
     "output_type": "execute_result"
    }
   ],
   "source": [
    "type(method.partition('to'))"
   ]
  },
  {
   "cell_type": "code",
   "execution_count": 126,
   "id": "a1452aa4-597d-4558-88db-aedee3706bb7",
   "metadata": {},
   "outputs": [
    {
     "data": {
      "text/plain": [
       "'Hello, welcome ot my world!'"
      ]
     },
     "execution_count": 126,
     "metadata": {},
     "output_type": "execute_result"
    }
   ],
   "source": [
    "method.replace('to', 'ot')\n",
    "# Verdiğimiz parametrelere göre string üzerinde değişiklik yapar.\n",
    "#?method.replace"
   ]
  },
  {
   "cell_type": "code",
   "execution_count": 129,
   "id": "ae057235-0788-482e-b16c-7f8a628632a5",
   "metadata": {},
   "outputs": [
    {
     "data": {
      "text/plain": [
       "15"
      ]
     },
     "execution_count": 129,
     "metadata": {},
     "output_type": "execute_result"
    }
   ],
   "source": [
    "method.rfind('to')\n",
    "# string içerisinde sağdan başlayarak parametre olarak verdiğimiz değerin index numarasını verir."
   ]
  },
  {
   "cell_type": "code",
   "execution_count": 132,
   "id": "cac02198-c916-4e43-bc3b-6373ebc4e0cb",
   "metadata": {},
   "outputs": [
    {
     "data": {
      "text/plain": [
       "15"
      ]
     },
     "execution_count": 132,
     "metadata": {},
     "output_type": "execute_result"
    }
   ],
   "source": [
    "method.rindex('to')\n",
    "# string içerisinde sağdan başlayarak parametre olarak verdiğimiz değerin index numarasını verir."
   ]
  },
  {
   "cell_type": "code",
   "execution_count": 139,
   "id": "d31b6c40-175d-4be1-87e9-0d228bce553d",
   "metadata": {},
   "outputs": [
    {
     "data": {
      "text/plain": [
       "4"
      ]
     },
     "execution_count": 139,
     "metadata": {},
     "output_type": "execute_result"
    }
   ],
   "source": [
    "method.index('o')"
   ]
  },
  {
   "cell_type": "code",
   "execution_count": 141,
   "id": "a87c216c-fe48-44c6-8d28-2ff8c43083ab",
   "metadata": {},
   "outputs": [
    {
     "data": {
      "text/plain": [
       "('Hello, welcome to my w', 'o', 'rld!')"
      ]
     },
     "execution_count": 141,
     "metadata": {},
     "output_type": "execute_result"
    }
   ],
   "source": [
    "method.rpartition('o')\n",
    "# sağ taraftan başlayarak parametre olarak verdiğimiz değeri bulur ve yalnız kalacak şekilde stringi böler."
   ]
  },
  {
   "cell_type": "code",
   "execution_count": 143,
   "id": "2121302b-23bc-4bc0-84e4-c41ec154605d",
   "metadata": {},
   "outputs": [
    {
     "data": {
      "text/plain": [
       "'Hello, welcome to my world!'"
      ]
     },
     "execution_count": 143,
     "metadata": {},
     "output_type": "execute_result"
    }
   ],
   "source": [
    "method"
   ]
  },
  {
   "cell_type": "code",
   "execution_count": 144,
   "id": "7531e191-71b9-4113-ad62-8aedae9c0337",
   "metadata": {},
   "outputs": [
    {
     "data": {
      "text/plain": [
       "['Hello', ' welcome to my world!']"
      ]
     },
     "execution_count": 144,
     "metadata": {},
     "output_type": "execute_result"
    }
   ],
   "source": [
    "method.rsplit(',')"
   ]
  }
 ],
 "metadata": {
  "kernelspec": {
   "display_name": "Python 3 (ipykernel)",
   "language": "python",
   "name": "python3"
  },
  "language_info": {
   "codemirror_mode": {
    "name": "ipython",
    "version": 3
   },
   "file_extension": ".py",
   "mimetype": "text/x-python",
   "name": "python",
   "nbconvert_exporter": "python",
   "pygments_lexer": "ipython3",
   "version": "3.9.12"
  }
 },
 "nbformat": 4,
 "nbformat_minor": 5
}
